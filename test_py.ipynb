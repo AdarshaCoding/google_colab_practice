{
  "nbformat": 4,
  "nbformat_minor": 0,
  "metadata": {
    "colab": {
      "provenance": [],
      "authorship_tag": "ABX9TyNGfP4zMlrXjIsVsJ0vFGyn",
      "include_colab_link": true
    },
    "kernelspec": {
      "name": "python3",
      "display_name": "Python 3"
    },
    "language_info": {
      "name": "python"
    }
  },
  "cells": [
    {
      "cell_type": "markdown",
      "metadata": {
        "id": "view-in-github",
        "colab_type": "text"
      },
      "source": [
        "<a href=\"https://colab.research.google.com/github/AdarshaCoding/google_colab_practice/blob/main/test_py.ipynb\" target=\"_parent\"><img src=\"https://colab.research.google.com/assets/colab-badge.svg\" alt=\"Open In Colab\"/></a>"
      ]
    },
    {
      "cell_type": "code",
      "source": [
        "s = \"{[({})]}\"\n",
        "stk = []\n",
        "bracket_map = {\")\":\"(\", \"}\":\"{\", \"]\":\"[\"}\n",
        "\n",
        "def is_balanced(s):\n",
        "  # reading each characters from the string\n",
        "  for ch in s:\n",
        "    # check if the character in values, push it to stack if yes\n",
        "    if ch in bracket_map.values():\n",
        "      stk.append(ch)\n",
        "      # else check if the character in keys\n",
        "    elif ch in bracket_map.keys():\n",
        "      # pop the last char from the stack if TOP char matches with closing baracket in bracket_map\n",
        "      if stk and stk[-1] == bracket_map[ch]:\n",
        "        stk.pop()\n",
        "      else:\n",
        "        # not matching\n",
        "        return False\n",
        "  # matching\n",
        "  return True\n",
        "\n",
        "print(is_balanced(s))\n",
        "\n"
      ],
      "metadata": {
        "colab": {
          "base_uri": "https://localhost:8080/"
        },
        "id": "lIFb4FkOxfFb",
        "outputId": "92f30ca6-85bb-468a-ab63-3a7edf056660"
      },
      "execution_count": 21,
      "outputs": [
        {
          "output_type": "stream",
          "name": "stdout",
          "text": [
            "True\n"
          ]
        }
      ]
    }
  ]
}