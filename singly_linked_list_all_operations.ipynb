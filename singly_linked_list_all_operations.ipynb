{
  "nbformat": 4,
  "nbformat_minor": 0,
  "metadata": {
    "colab": {
      "provenance": [],
      "authorship_tag": "ABX9TyMLQcdSy4uZFlebdNbbUmFu",
      "include_colab_link": true
    },
    "kernelspec": {
      "name": "python3",
      "display_name": "Python 3"
    },
    "language_info": {
      "name": "python"
    }
  },
  "cells": [
    {
      "cell_type": "markdown",
      "metadata": {
        "id": "view-in-github",
        "colab_type": "text"
      },
      "source": [
        "<a href=\"https://colab.research.google.com/github/AdarshaCoding/google_colab_practice/blob/main/singly_linked_list_all_operations.ipynb\" target=\"_parent\"><img src=\"https://colab.research.google.com/assets/colab-badge.svg\" alt=\"Open In Colab\"/></a>"
      ]
    },
    {
      "cell_type": "code",
      "source": [
        "# individual node blueprint\n",
        "class Node:\n",
        "    def __init__(self, data):\n",
        "        self.data = data  # data\n",
        "        self.next = None  # pointer to next node\n",
        "\n",
        "    def __str__(self) -> str:\n",
        "        return str(self.data)"
      ],
      "metadata": {
        "id": "Xu8ND-PlU_Ax"
      },
      "execution_count": 38,
      "outputs": []
    },
    {
      "cell_type": "code",
      "source": [
        "# create a list with more node\n",
        "class SinglyLinkedList:\n",
        "    def __init__(self):\n",
        "        self.head = None  # start with empty head\n",
        "        self.n = 0\n",
        "\n",
        "    def __len__(self):\n",
        "        return self.n\n",
        "\n",
        "    def insert_at_beginning(self, data):\n",
        "        new_node = Node(data)\n",
        "        if self.head is None:\n",
        "            self.head = new_node\n",
        "            self.n = self.n + 1\n",
        "            return\n",
        "        new_node.next = self.head\n",
        "        self.head = new_node\n",
        "        self.n = self.n + 1\n",
        "\n",
        "    def insert_at_end(self, data):\n",
        "        new_node = Node(data)\n",
        "        if self.head is None:\n",
        "            self.head = new_node\n",
        "            self.n = self.n + 1\n",
        "            return\n",
        "        current = self.head\n",
        "        while current.next:\n",
        "            current = current.next\n",
        "        current.next = new_node\n",
        "        self.n = self.n + 1\n",
        "\n",
        "    def insert_after(self, target, data):\n",
        "        if self.head is None:\n",
        "            print(\"The list is empty and dosn'e contain any target value\")\n",
        "            return\n",
        "        current = self.head\n",
        "        while current:\n",
        "            if current.data == target:\n",
        "                break\n",
        "            current = current.next\n",
        "        if current is None:\n",
        "            print(\"The target value is not found!\")\n",
        "        else:\n",
        "            new_node = Node(data)\n",
        "            new_node.next = current.next\n",
        "            current.next = new_node\n",
        "            self.n = self.n + 1\n",
        "\n",
        "    def delete_at_start(self):\n",
        "        if self.head is None:\n",
        "            print(\"The list is already empty!\")\n",
        "            return\n",
        "        self.head = self.head.next\n",
        "        self.n = self.n - 1\n",
        "\n",
        "    def delete_at_end(self):\n",
        "        if self.head is None:\n",
        "            print(\"The list is already empty!\")\n",
        "            return\n",
        "        current = self.head\n",
        "        while current.next.next:  # current.next.next is not None\n",
        "            current = current.next\n",
        "        current.next = None\n",
        "        self.n = self.n - 1\n",
        "\n",
        "    def delete_by_value(self, value):\n",
        "        if self.head is None:\n",
        "            print(\"The list is already empty!\")\n",
        "            return\n",
        "        if self.head.data == value:\n",
        "            self.head = self.head.next\n",
        "            self.n = self.n - 1\n",
        "            return\n",
        "        current = self.head\n",
        "        while current.next:\n",
        "            if current.next.data == value:\n",
        "                break\n",
        "            current = current.next\n",
        "\n",
        "        if current is None:\n",
        "            print(\"The value is not found in the list!\")\n",
        "            return\n",
        "\n",
        "        current.next = current.next.next\n",
        "        self.n = self.n - 1\n",
        "\n",
        "    def reverse(self):\n",
        "        if self.head is None:\n",
        "            print(\"The list is empty\")\n",
        "            return\n",
        "        if self.head.next is None:\n",
        "            print(\"There is only one element in the list!\")\n",
        "            return\n",
        "\n",
        "        prev = None\n",
        "        current = self.head\n",
        "        while current:\n",
        "            temp = current.next\n",
        "            current.next = prev\n",
        "            prev = current\n",
        "            current = temp\n",
        "        self.head = prev\n",
        "\n",
        "    def print_list(self):\n",
        "        if self.head is None:\n",
        "            print(\"The list is empty!\")\n",
        "            return\n",
        "        current = self.head\n",
        "        while current:\n",
        "            print(current.data, end=\" -> \")\n",
        "            current = current.next\n",
        "        print(\"None\")"
      ],
      "metadata": {
        "id": "cfDpqCnrlp1a"
      },
      "execution_count": 39,
      "outputs": []
    },
    {
      "cell_type": "code",
      "source": [
        "ll = SinglyLinkedList()\n",
        "ll.insert_at_beginning(10)\n",
        "ll.insert_at_beginning(20)\n",
        "ll.insert_at_beginning(30)\n",
        "ll.insert_at_beginning(40)\n",
        "ll.insert_at_beginning(50)\n",
        "\n",
        "ll.insert_at_end(77)\n",
        "\n",
        "ll.insert_after(30, 33)\n",
        "\n",
        "ll.print_list()\n",
        "\n",
        "ll.delete_at_end()\n",
        "ll.print_list()\n",
        "\n",
        "ll.delete_at_start()\n",
        "ll.print_list()\n",
        "\n",
        "ll.delete_by_value(33)\n",
        "ll.print_list()\n",
        "\n",
        "ll.reverse()\n",
        "print(\"Reversed list: \", end=\"\")\n",
        "ll.print_list()\n",
        "\n",
        "print(\"Length of the linked list: \", len(ll))\n",
        "\n"
      ],
      "metadata": {
        "colab": {
          "base_uri": "https://localhost:8080/"
        },
        "id": "yBWRSakzWrHq",
        "outputId": "98a8398c-44ff-4623-d836-cabc51d888d4"
      },
      "execution_count": 41,
      "outputs": [
        {
          "output_type": "stream",
          "name": "stdout",
          "text": [
            "50 -> 40 -> 30 -> 33 -> 20 -> 10 -> 77 -> None\n",
            "50 -> 40 -> 30 -> 33 -> 20 -> 10 -> None\n",
            "40 -> 30 -> 33 -> 20 -> 10 -> None\n",
            "40 -> 30 -> 20 -> 10 -> None\n",
            "Reversed list: 10 -> 20 -> 30 -> 40 -> None\n",
            "Length of the linked list:  4\n"
          ]
        }
      ]
    }
  ]
}