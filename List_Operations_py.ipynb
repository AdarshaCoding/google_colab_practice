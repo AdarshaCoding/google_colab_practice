{
  "nbformat": 4,
  "nbformat_minor": 0,
  "metadata": {
    "colab": {
      "provenance": [],
      "authorship_tag": "ABX9TyMddNZvGcxN9hW7i+SZJwW8",
      "include_colab_link": true
    },
    "kernelspec": {
      "name": "python3",
      "display_name": "Python 3"
    },
    "language_info": {
      "name": "python"
    }
  },
  "cells": [
    {
      "cell_type": "markdown",
      "metadata": {
        "id": "view-in-github",
        "colab_type": "text"
      },
      "source": [
        "<a href=\"https://colab.research.google.com/github/AdarshaCoding/google_colab_practice/blob/main/List_Operations_py.ipynb\" target=\"_parent\"><img src=\"https://colab.research.google.com/assets/colab-badge.svg\" alt=\"Open In Colab\"/></a>"
      ]
    },
    {
      "cell_type": "code",
      "source": [
        "L = []\n",
        "L.append(10)\n",
        "L.append(20)\n",
        "L.append(30)\n",
        "print(L)\n",
        "\n",
        "L.insert(1, 11)\n",
        "print(L)\n",
        "print(\"Popped last: \", L.pop())\n",
        "\n",
        "L.append(66)\n",
        "L.append(67)\n",
        "print(L)\n",
        "print(f\"Popped using index - 3 : \",L.pop(3))\n",
        "\n",
        "L.reverse()\n",
        "print(\"List reversed: \", L)\n",
        "\n",
        "#L[::-1] creates a new list that starts at the end of the original list and\n",
        "# moves backwards through it with a step size of -1. This reverses the order of elements.\n",
        "# L[start:end:step]\n",
        "print(\"Original List\", L)\n",
        "print(\"Reversed using \", L[::-1])\n",
        "\n",
        "L.remove(11)\n",
        "print(\"Removed 11 using remove method\",L)\n",
        "\n",
        "print(L.index(20))\n",
        "\n",
        "try:\n",
        "  print(L.index(200))\n",
        "except ValueError:\n",
        "  print(\"The value is not found!\")\n",
        "\n",
        "L.append(55)\n",
        "L.append(37)\n",
        "L.append(22)\n",
        "print(L)\n",
        "L.sort(reverse=False)\n",
        "print(L)\n",
        "\n",
        "L_1 = [1,2,3,4]\n",
        "L.extend(L_1)\n",
        "print(L)\n",
        "\n",
        "L1 = [6,3,4,1,9,5]\n",
        "L2 = [16, 12,19,11,10]\n",
        "L1.extend(L2)\n",
        "L1.sort()\n",
        "print(L1)\n",
        "\n",
        "print(L1.index(12, 1, 10)) #index(x, start, end)\n",
        "\n",
        "L1.extend([2,2,2,2,3])\n",
        "print(L1)\n",
        "print(L1.count(2))\n",
        "\n",
        "print(L1)\n",
        "del L1[2:5]\n",
        "print(L1)\n",
        "del L1[-2:-5:-1]\n",
        "print(L1)\n",
        "\n",
        "# shallow copy\n",
        "L3 = [[1,2,3,4], [5,6,7]]\n",
        "L4 = L3.copy()\n",
        "print(L3, L4)\n",
        "\n",
        "print(L4[0][1])\n",
        "L4[0][1]= 66\n",
        "print(L3, L4)\n",
        "# Create a shallow copy\n",
        "#shallow_copy = copy.copy(original)\n",
        "\n",
        "\n",
        "# deep copy\n",
        "import copy\n",
        "L3 = [[1,2,3,4], [5,6,7]]\n",
        "L4 = copy.deepcopy(L4)\n",
        "L4[0][1]= 66\n",
        "print(L3, L4)\n",
        "\n",
        "\n",
        "\n",
        "\n",
        "# Summary of List Methods:\n",
        "# Appending, inserting, extending: append(), insert(), extend().\n",
        "# Removing: remove(), pop(), clear().\n",
        "# Indexing and counting: index(), count().\n",
        "# Sorting and reversing: sort(), reverse().\n",
        "# Copying: copy().\n",
        "# Utility: max(), min(), sum(), all(), any().\n",
        "# Destructive: del (deletes an element)."
      ],
      "metadata": {
        "colab": {
          "base_uri": "https://localhost:8080/"
        },
        "id": "_PJF5mSrqzdL",
        "outputId": "24c92f6d-3700-45d0-f558-8fb641a1861f"
      },
      "execution_count": 101,
      "outputs": [
        {
          "output_type": "stream",
          "name": "stdout",
          "text": [
            "[10, 20, 30]\n",
            "[10, 11, 20, 30]\n",
            "Popped last:  30\n",
            "[10, 11, 20, 66, 67]\n",
            "Popped using index - 3 :  66\n",
            "List reversed:  [67, 20, 11, 10]\n",
            "Original List [67, 20, 11, 10]\n",
            "Reversed using  [10, 11, 20, 67]\n",
            "Removed 11 using remove method [67, 20, 10]\n",
            "1\n",
            "The value is not found!\n",
            "[67, 20, 10, 55, 37, 22]\n",
            "[10, 20, 22, 37, 55, 67]\n",
            "[10, 20, 22, 37, 55, 67, 1, 2, 3, 4]\n",
            "[1, 3, 4, 5, 6, 9, 10, 11, 12, 16, 19]\n",
            "8\n",
            "[1, 3, 4, 5, 6, 9, 10, 11, 12, 16, 19, 2, 2, 2, 2, 3]\n",
            "4\n",
            "[1, 3, 4, 5, 6, 9, 10, 11, 12, 16, 19, 2, 2, 2, 2, 3]\n",
            "[1, 3, 9, 10, 11, 12, 16, 19, 2, 2, 2, 2, 3]\n",
            "[1, 3, 9, 10, 11, 12, 16, 19, 2, 3]\n",
            "[[1, 2, 3, 4], [5, 6, 7]] [[1, 2, 3, 4], [5, 6, 7]]\n",
            "2\n",
            "[[1, 66, 3, 4], [5, 6, 7]] [[1, 66, 3, 4], [5, 6, 7]]\n",
            "[[1, 2, 3, 4], [5, 6, 7]] [[1, 66, 3, 4], [5, 6, 7]]\n"
          ]
        }
      ]
    }
  ]
}