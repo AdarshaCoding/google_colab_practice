{
  "nbformat": 4,
  "nbformat_minor": 0,
  "metadata": {
    "colab": {
      "provenance": [],
      "authorship_tag": "ABX9TyNpORK7oo/b95Xe3unFY7YY",
      "include_colab_link": true
    },
    "kernelspec": {
      "name": "python3",
      "display_name": "Python 3"
    },
    "language_info": {
      "name": "python"
    }
  },
  "cells": [
    {
      "cell_type": "markdown",
      "metadata": {
        "id": "view-in-github",
        "colab_type": "text"
      },
      "source": [
        "<a href=\"https://colab.research.google.com/github/AdarshaCoding/google_colab_practice/blob/main/moving_zeros_to_end.ipynb\" target=\"_parent\"><img src=\"https://colab.research.google.com/assets/colab-badge.svg\" alt=\"Open In Colab\"/></a>"
      ]
    },
    {
      "cell_type": "code",
      "source": [
        "from os import pipe2\n",
        "arr = [0,0,0,1,0,4,0,5,7,8]\n",
        "print(arr)\n",
        "non_zeros =[]\n",
        "zeros = []\n",
        "for el in arr:\n",
        "  if el != 0:\n",
        "    non_zeros.append(el)\n",
        "  else:\n",
        "    zeros.append(el)\n",
        "print(non_zeros + zeros)\n",
        "\n",
        "non_zeros.clear()\n",
        "zeros.clear()\n",
        "\n",
        "s = \"00012345\"\n",
        "for ch in s:\n",
        "  if ch != \"0\":\n",
        "    non_zeros.append(ch)\n",
        "  else:\n",
        "    zeros.append(ch)\n",
        "arr_s = non_zeros + zeros\n",
        "print(\"\".join(arr_s))\n",
        "\n",
        "\n"
      ],
      "metadata": {
        "colab": {
          "base_uri": "https://localhost:8080/"
        },
        "id": "_PJF5mSrqzdL",
        "outputId": "d8f44fb8-c8c8-4b9f-f221-522671b5b5d3"
      },
      "execution_count": 109,
      "outputs": [
        {
          "output_type": "stream",
          "name": "stdout",
          "text": [
            "[0, 0, 0, 1, 0, 4, 0, 5, 7, 8]\n",
            "[1, 4, 5, 7, 8, 0, 0, 0, 0, 0]\n",
            "12345000\n"
          ]
        }
      ]
    }
  ]
}