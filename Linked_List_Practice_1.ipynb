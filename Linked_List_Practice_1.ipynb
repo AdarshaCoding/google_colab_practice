{
  "nbformat": 4,
  "nbformat_minor": 0,
  "metadata": {
    "colab": {
      "provenance": [],
      "authorship_tag": "ABX9TyMvQqtiJF05w2YFbMbAmQAa",
      "include_colab_link": true
    },
    "kernelspec": {
      "name": "python3",
      "display_name": "Python 3"
    },
    "language_info": {
      "name": "python"
    }
  },
  "cells": [
    {
      "cell_type": "markdown",
      "metadata": {
        "id": "view-in-github",
        "colab_type": "text"
      },
      "source": [
        "<a href=\"https://colab.research.google.com/github/AdarshaCoding/google_colab_practice/blob/main/Linked_List_Practice_1.ipynb\" target=\"_parent\"><img src=\"https://colab.research.google.com/assets/colab-badge.svg\" alt=\"Open In Colab\"/></a>"
      ]
    },
    {
      "cell_type": "code",
      "source": [
        "class Node:\n",
        "  def __init__(self, data):\n",
        "    self.data = data\n",
        "    self.next = None\n",
        "\n"
      ],
      "metadata": {
        "id": "Ba9Zfh3F2xkL"
      },
      "execution_count": 55,
      "outputs": []
    },
    {
      "cell_type": "code",
      "source": [
        "class SinglyLinkedList:\n",
        "  def __init__(self) -> None:\n",
        "    self.head = None\n",
        "    self.n = 0\n",
        "\n",
        "  def __len__(self):\n",
        "    return self.n\n",
        "\n",
        "  def insert_at_beginning(self, data):\n",
        "    new_node = Node(data)\n",
        "    if self.head is None:\n",
        "      self.head = new_node\n",
        "      self.n += 1\n",
        "      return\n",
        "    new_node.next = self.head\n",
        "    self.head = new_node\n",
        "    self.n += 1\n",
        "\n",
        "  def insert_at_end(self, data):\n",
        "    new_node = Node(data)\n",
        "    if self.head is None:\n",
        "      self.head = new_node\n",
        "      self.n += 1\n",
        "      return\n",
        "    current = self.head\n",
        "    while current.next:\n",
        "      current = current.next\n",
        "    current.next = new_node\n",
        "    self.n += 1\n",
        "\n",
        "  def insert_after(self, value, data):\n",
        "    if self.head is None:\n",
        "      print(\"The list is empty!\")\n",
        "      return\n",
        "    new_node = Node(data)\n",
        "    current = self.head\n",
        "    while current:\n",
        "      if current.data == value:\n",
        "        break\n",
        "      current = current.next\n",
        "\n",
        "    if current is None:\n",
        "      print(\"The value is not found!\")\n",
        "    else:\n",
        "      new_node.next = current.next\n",
        "      current.next = new_node\n",
        "\n",
        "\n",
        "  def print_list(self):\n",
        "    if self.head is None:\n",
        "      print(\"The list is empty!\")\n",
        "      return\n",
        "    current = self.head\n",
        "    while current:\n",
        "      print(current.data, end=\" -> \")\n",
        "      current = current.next\n",
        "    print(\"None\")\n",
        ""
      ],
      "metadata": {
        "id": "bDpHkc4SGHIs"
      },
      "execution_count": 64,
      "outputs": []
    },
    {
      "cell_type": "code",
      "source": [
        "ll = SinglyLinkedList()\n",
        "ll.insert_at_beginning(10)\n",
        "ll.insert_at_beginning(20)\n",
        "ll.insert_at_beginning(30)\n",
        "ll.insert_at_beginning(40)\n",
        "ll.insert_at_beginning(50)\n",
        "\n",
        "ll.insert_at_end(77)\n",
        "ll.insert_after(20, 22)\n",
        "\n",
        "ll.print_list()\n"
      ],
      "metadata": {
        "colab": {
          "base_uri": "https://localhost:8080/"
        },
        "id": "Tr3scv9y9-LC",
        "outputId": "b7ebd979-1fac-40bf-ad42-e97f5048b4bb"
      },
      "execution_count": 65,
      "outputs": [
        {
          "output_type": "stream",
          "name": "stdout",
          "text": [
            "50 -> 40 -> 30 -> 20 -> 22 -> 10 -> 77 -> None\n"
          ]
        }
      ]
    },
    {
      "cell_type": "markdown",
      "source": [
        "# New section"
      ],
      "metadata": {
        "id": "jc52T1euAY30"
      }
    },
    {
      "cell_type": "code",
      "source": [
        "arr = [2, 7, 11, 15]\n",
        "target = 9\n",
        "def two_sum_problem(arr, target):\n",
        "  hash_map = {}\n",
        "  for i, el in enumerate(arr):\n",
        "    difference = target - el\n",
        "    if difference in hash_map:\n",
        "      return [hash_map[difference], i]\n",
        "    hash_map[difference] = i\n",
        "  return []\n",
        "\n",
        "result = two_sum_problem(arr, target)\n",
        "print(result)\n"
      ],
      "metadata": {
        "colab": {
          "base_uri": "https://localhost:8080/"
        },
        "id": "w8xn-mBoAZqR",
        "outputId": "0e2ae1f1-4389-4a40-d515-0ecdb0e42d72"
      },
      "execution_count": 6,
      "outputs": [
        {
          "output_type": "stream",
          "name": "stdout",
          "text": [
            "[]\n"
          ]
        }
      ]
    }
  ]
}