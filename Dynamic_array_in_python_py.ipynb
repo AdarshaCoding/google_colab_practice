{
  "nbformat": 4,
  "nbformat_minor": 0,
  "metadata": {
    "colab": {
      "provenance": [],
      "authorship_tag": "ABX9TyOwmYUmRNUDS51x/Ov9QdRd",
      "include_colab_link": true
    },
    "kernelspec": {
      "name": "python3",
      "display_name": "Python 3"
    },
    "language_info": {
      "name": "python"
    }
  },
  "cells": [
    {
      "cell_type": "markdown",
      "metadata": {
        "id": "view-in-github",
        "colab_type": "text"
      },
      "source": [
        "<a href=\"https://colab.research.google.com/github/AdarshaCoding/google_colab_practice/blob/main/Dynamic_array_in_python_py.ipynb\" target=\"_parent\"><img src=\"https://colab.research.google.com/assets/colab-badge.svg\" alt=\"Open In Colab\"/></a>"
      ]
    },
    {
      "cell_type": "code",
      "source": [
        "import sys\n",
        "\n",
        "L = []\n",
        "for i in range(60):\n",
        "  # 8 blocks will ge added behind the scene when array running out memory\n",
        "  print(i, sys.getsizeof(L))\n",
        "  L.append(i)"
      ],
      "metadata": {
        "colab": {
          "base_uri": "https://localhost:8080/"
        },
        "id": "_PJF5mSrqzdL",
        "outputId": "15e8758a-88e7-4481-b7fa-249eac325b8f"
      },
      "execution_count": 44,
      "outputs": [
        {
          "output_type": "stream",
          "name": "stdout",
          "text": [
            "0 56\n",
            "1 88\n",
            "2 88\n",
            "3 88\n",
            "4 88\n",
            "5 120\n",
            "6 120\n",
            "7 120\n",
            "8 120\n",
            "9 184\n",
            "10 184\n",
            "11 184\n",
            "12 184\n",
            "13 184\n",
            "14 184\n",
            "15 184\n",
            "16 184\n",
            "17 248\n",
            "18 248\n",
            "19 248\n",
            "20 248\n",
            "21 248\n",
            "22 248\n",
            "23 248\n",
            "24 248\n",
            "25 312\n",
            "26 312\n",
            "27 312\n",
            "28 312\n",
            "29 312\n",
            "30 312\n",
            "31 312\n",
            "32 312\n",
            "33 376\n",
            "34 376\n",
            "35 376\n",
            "36 376\n",
            "37 376\n",
            "38 376\n",
            "39 376\n",
            "40 376\n",
            "41 472\n",
            "42 472\n",
            "43 472\n",
            "44 472\n",
            "45 472\n",
            "46 472\n",
            "47 472\n",
            "48 472\n",
            "49 472\n",
            "50 472\n",
            "51 472\n",
            "52 472\n",
            "53 568\n",
            "54 568\n",
            "55 568\n",
            "56 568\n",
            "57 568\n",
            "58 568\n",
            "59 568\n"
          ]
        }
      ]
    }
  ]
}