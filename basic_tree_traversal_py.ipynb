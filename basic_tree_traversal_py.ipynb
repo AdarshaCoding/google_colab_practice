{
  "nbformat": 4,
  "nbformat_minor": 0,
  "metadata": {
    "colab": {
      "provenance": [],
      "authorship_tag": "ABX9TyNT8LMMmqm0nkwENHHJPPtU",
      "include_colab_link": true
    },
    "kernelspec": {
      "name": "python3",
      "display_name": "Python 3"
    },
    "language_info": {
      "name": "python"
    }
  },
  "cells": [
    {
      "cell_type": "markdown",
      "metadata": {
        "id": "view-in-github",
        "colab_type": "text"
      },
      "source": [
        "<a href=\"https://colab.research.google.com/github/AdarshaCoding/google_colab_practice/blob/main/basic_tree_traversal_py.ipynb\" target=\"_parent\"><img src=\"https://colab.research.google.com/assets/colab-badge.svg\" alt=\"Open In Colab\"/></a>"
      ]
    },
    {
      "cell_type": "code",
      "source": [
        "#Tree node class which has data, left and right pointer\n",
        "class TreeNode:\n",
        "  def __init__(self, data) -> None:\n",
        "    self.data = data\n",
        "    self.left = None\n",
        "    self.right = None"
      ],
      "metadata": {
        "id": "vT1wf78b7CNE"
      },
      "execution_count": 26,
      "outputs": []
    },
    {
      "cell_type": "code",
      "source": [
        "# Each node object creation\n",
        "A = TreeNode(8)\n",
        "B = TreeNode(5)\n",
        "C = TreeNode(3)\n",
        "D = TreeNode(10)\n",
        "E = TreeNode(15)\n",
        "F = TreeNode(25)\n",
        "G = TreeNode(33)\n",
        "H = TreeNode(45)\n",
        "\n",
        "# Link each nodes using pointers\n",
        "A.left = B\n",
        "A.right = C\n",
        "B.left = D\n",
        "B.right = E\n",
        "C.left = F\n",
        "C.right = G\n",
        "F.right = H"
      ],
      "metadata": {
        "id": "9ifzK1foAnAz"
      },
      "execution_count": 27,
      "outputs": []
    },
    {
      "cell_type": "code",
      "source": [
        "# Pre-Order Traversal using recursion\n",
        "def dfs_pre_order(node):\n",
        "  if node:\n",
        "    print(node.data, end=\" \")\n",
        "    dfs_pre_order(node.left)\n",
        "    dfs_pre_order(node.right)\n",
        "print(\"Pre-Order Traversal: \")\n",
        "dfs_pre_order(A)"
      ],
      "metadata": {
        "colab": {
          "base_uri": "https://localhost:8080/"
        },
        "id": "HLTBBQ-BAusM",
        "outputId": "68e0c0eb-4ebf-452e-edda-0677cbaeccac"
      },
      "execution_count": 28,
      "outputs": [
        {
          "output_type": "stream",
          "name": "stdout",
          "text": [
            "Pre-Order Traversal: \n",
            "8 5 10 15 3 25 45 33 "
          ]
        }
      ]
    },
    {
      "cell_type": "code",
      "source": [
        "# In-Order Traversal using recursion\n",
        "def dfs_in_order(node):\n",
        "  if node:\n",
        "    dfs_in_order(node.left)\n",
        "    print(node.data, end=\" \")\n",
        "    dfs_in_order(node.right)\n",
        "print(\"In-Order Traversal: \")\n",
        "dfs_in_order(A)"
      ],
      "metadata": {
        "colab": {
          "base_uri": "https://localhost:8080/"
        },
        "id": "YwYJqOZDDWy5",
        "outputId": "02ddf8ea-39a4-42df-840b-a2afd05b20d4"
      },
      "execution_count": 29,
      "outputs": [
        {
          "output_type": "stream",
          "name": "stdout",
          "text": [
            "In-Order Traversal: \n",
            "10 5 15 8 25 45 3 33 "
          ]
        }
      ]
    },
    {
      "cell_type": "code",
      "source": [
        "# Post-Order Traversal using recursion\n",
        "def dfs_post_order(node):\n",
        "  if node:\n",
        "    dfs_post_order(node.left)\n",
        "    dfs_post_order(node.right)\n",
        "    print(node.data, end=\" \")\n",
        "print(\"Post-Order Traversal: \")\n",
        "dfs_post_order(A)\n"
      ],
      "metadata": {
        "colab": {
          "base_uri": "https://localhost:8080/"
        },
        "id": "JGYaBWC0EEil",
        "outputId": "abab6235-f949-436c-f59c-a97987e1a519"
      },
      "execution_count": 30,
      "outputs": [
        {
          "output_type": "stream",
          "name": "stdout",
          "text": [
            "Post-Order Traversal: \n",
            "10 15 5 45 25 33 3 8 "
          ]
        }
      ]
    }
  ]
}